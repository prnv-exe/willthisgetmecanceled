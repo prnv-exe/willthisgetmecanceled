{
 "cells": [
  {
   "attachments": {},
   "cell_type": "markdown",
   "metadata": {},
   "source": [
    "# Will This Get Me Cancelled?"
   ]
  },
  {
   "attachments": {},
   "cell_type": "markdown",
   "metadata": {},
   "source": [
    "## Imports"
   ]
  },
  {
   "cell_type": "code",
   "execution_count": 177,
   "metadata": {},
   "outputs": [],
   "source": [
    "import numpy as np\n",
    "import pandas as pd\n",
    "import random\n",
    "from sklearn.model_selection import train_test_split\n",
    "from sklearn.feature_extraction.text import CountVectorizer, TfidfVectorizer, HashingVectorizer\n",
    "from sklearn.linear_model import LogisticRegression, PassiveAggressiveClassifier, Perceptron, SGDRegressor\n",
    "from sklearn.model_selection import GridSearchCV\n",
    "from sklearn.metrics import f1_score\n",
    "from sklearn.ensemble import RandomForestClassifier\n",
    "from sklearn import svm\n",
    "import pickle\n"
   ]
  },
  {
   "attachments": {},
   "cell_type": "markdown",
   "metadata": {},
   "source": [
    "## Classes and Functions"
   ]
  },
  {
   "cell_type": "code",
   "execution_count": 2,
   "metadata": {},
   "outputs": [],
   "source": [
    "class Messages:\n",
    "    def __init__(self, tweet, hater):\n",
    "        self.given_text = tweet\n",
    "        self.label = hater\n",
    "        self.is_hate = self.is_hater()\n",
    "\n",
    "    def is_hater(self):\n",
    "        if self.label == 'No':\n",
    "            return False\n",
    "        else:\n",
    "            return True\n",
    "        \n",
    "class MessageContainer:\n",
    "    def __init__(self, message):\n",
    "        self.message = message\n",
    "        \n",
    "    def get_text(self):\n",
    "        return [x.given_text for x in self.message]\n",
    "    \n",
    "    def get_sentiment(self):\n",
    "        return [x.is_hate for x in self.message]\n",
    "        \n",
    "    def evenly_distribute(self):\n",
    "        positive = list(filter(lambda x: x.is_hate == False, self.message))\n",
    "        hate = list(filter(lambda x: x.is_hate == True, self.message))\n",
    "        positive_shrunk = positive[:len(hate)]\n",
    "        self.reviews = hate + positive_shrunk\n",
    "        random.shuffle(self.reviews)\n",
    "    \n",
    "    def len(self):\n",
    "        return len(self.message)\n",
    "    \n",
    "\n",
    "def SetCreator(arr, arr2, param):\n",
    "    if param == 'text':\n",
    "        for x in range(0, arr2.len()):\n",
    "            buffer = arr2.get_text()[x]\n",
    "            arr.append(buffer)\n",
    "    elif param == 'hate':\n",
    "        for x in range(0, arr2.len()):\n",
    "            buffer = arr2.get_sentiment()[x]\n",
    "            arr.append(buffer)\n",
    "\n",
    "def Categoriser(df, type):\n",
    "    for x in df.index:\n",
    "        if type in df['text'][x]:\n",
    "            print(df['text'][x])\n",
    "\n",
    "def predictor(text, model):\n",
    "    text_v = vectorizer.transform([text])\n",
    "\n",
    "    print(model.predict(text_v))"
   ]
  },
  {
   "attachments": {},
   "cell_type": "markdown",
   "metadata": {},
   "source": [
    "## Data Preparation"
   ]
  },
  {
   "cell_type": "code",
   "execution_count": 3,
   "metadata": {},
   "outputs": [],
   "source": [
    "df = pd.read_csv('data_set\\labeled_data3.csv')\n",
    "\n",
    "message_container = []\n",
    "\n",
    "for x in df.index:\n",
    "    message = Messages(df['text'][x],df['label'][x])\n",
    "    message_container.append(message)\n",
    "\n",
    "\n",
    "train, test = train_test_split(message_container, test_size=0.2)\n",
    "\n",
    "train_container = MessageContainer(train)\n",
    "test_container = MessageContainer(test)\n",
    "\n",
    "train_container.evenly_distribute()\n",
    "\n",
    "train_x = []\n",
    "train_y = []\n",
    "\n",
    "test_x = []\n",
    "test_y = []\n",
    "\n",
    "SetCreator(train_x, train_container, param='text')\n",
    "SetCreator(train_y, train_container, param='hate')\n",
    "\n",
    "SetCreator(test_x, test_container, param='text')\n",
    "SetCreator(test_y, test_container, param='hate')\n"
   ]
  },
  {
   "attachments": {},
   "cell_type": "markdown",
   "metadata": {},
   "source": [
    "## Vectorisation"
   ]
  },
  {
   "cell_type": "code",
   "execution_count": 178,
   "metadata": {},
   "outputs": [],
   "source": [
    "vectorizer = HashingVectorizer()\n",
    "\n",
    "train_x_vectors = vectorizer.fit_transform(train_x)\n",
    "test_x_vectors = vectorizer.transform(test_x)\n"
   ]
  },
  {
   "attachments": {},
   "cell_type": "markdown",
   "metadata": {},
   "source": [
    "## Support Vector Model"
   ]
  },
  {
   "attachments": {},
   "cell_type": "markdown",
   "metadata": {},
   "source": [
    "#### Training"
   ]
  },
  {
   "cell_type": "code",
   "execution_count": 199,
   "metadata": {},
   "outputs": [],
   "source": [
    "#clf_rfm = RandomForestClassifier()\n",
    "\n",
    "#clf_svm = svm.SVC(kernel=\"rbf\", C=32)\n",
    "\n",
    "#clf_log = LogisticRegression(max_iter=100000)\n",
    "\n",
    "#clf_log.fit(train_x_vectors, train_y)\n",
    "\n",
    "#clf_rfm.fit(train_x_vectors, train_y)\n",
    "\n",
    "#clf_svm.fit(train_x_vectors, train_y)\n",
    "\n",
    "clf_par = PassiveAggressiveClassifier()\n",
    "\n",
    "clf_par.fit(train_x_vectors, train_y)\n",
    "\n",
    "clf_per = Perceptron()\n",
    "\n",
    "clf_per.fit(train_x_vectors, train_y)\n",
    "\n",
    "models = [clf_par, clf_per]\n",
    "\n"
   ]
  },
  {
   "cell_type": "code",
   "execution_count": 197,
   "metadata": {},
   "outputs": [
    {
     "data": {
      "text/html": [
       "<style>#sk-container-id-35 {color: black;background-color: white;}#sk-container-id-35 pre{padding: 0;}#sk-container-id-35 div.sk-toggleable {background-color: white;}#sk-container-id-35 label.sk-toggleable__label {cursor: pointer;display: block;width: 100%;margin-bottom: 0;padding: 0.3em;box-sizing: border-box;text-align: center;}#sk-container-id-35 label.sk-toggleable__label-arrow:before {content: \"▸\";float: left;margin-right: 0.25em;color: #696969;}#sk-container-id-35 label.sk-toggleable__label-arrow:hover:before {color: black;}#sk-container-id-35 div.sk-estimator:hover label.sk-toggleable__label-arrow:before {color: black;}#sk-container-id-35 div.sk-toggleable__content {max-height: 0;max-width: 0;overflow: hidden;text-align: left;background-color: #f0f8ff;}#sk-container-id-35 div.sk-toggleable__content pre {margin: 0.2em;color: black;border-radius: 0.25em;background-color: #f0f8ff;}#sk-container-id-35 input.sk-toggleable__control:checked~div.sk-toggleable__content {max-height: 200px;max-width: 100%;overflow: auto;}#sk-container-id-35 input.sk-toggleable__control:checked~label.sk-toggleable__label-arrow:before {content: \"▾\";}#sk-container-id-35 div.sk-estimator input.sk-toggleable__control:checked~label.sk-toggleable__label {background-color: #d4ebff;}#sk-container-id-35 div.sk-label input.sk-toggleable__control:checked~label.sk-toggleable__label {background-color: #d4ebff;}#sk-container-id-35 input.sk-hidden--visually {border: 0;clip: rect(1px 1px 1px 1px);clip: rect(1px, 1px, 1px, 1px);height: 1px;margin: -1px;overflow: hidden;padding: 0;position: absolute;width: 1px;}#sk-container-id-35 div.sk-estimator {font-family: monospace;background-color: #f0f8ff;border: 1px dotted black;border-radius: 0.25em;box-sizing: border-box;margin-bottom: 0.5em;}#sk-container-id-35 div.sk-estimator:hover {background-color: #d4ebff;}#sk-container-id-35 div.sk-parallel-item::after {content: \"\";width: 100%;border-bottom: 1px solid gray;flex-grow: 1;}#sk-container-id-35 div.sk-label:hover label.sk-toggleable__label {background-color: #d4ebff;}#sk-container-id-35 div.sk-serial::before {content: \"\";position: absolute;border-left: 1px solid gray;box-sizing: border-box;top: 0;bottom: 0;left: 50%;z-index: 0;}#sk-container-id-35 div.sk-serial {display: flex;flex-direction: column;align-items: center;background-color: white;padding-right: 0.2em;padding-left: 0.2em;position: relative;}#sk-container-id-35 div.sk-item {position: relative;z-index: 1;}#sk-container-id-35 div.sk-parallel {display: flex;align-items: stretch;justify-content: center;background-color: white;position: relative;}#sk-container-id-35 div.sk-item::before, #sk-container-id-35 div.sk-parallel-item::before {content: \"\";position: absolute;border-left: 1px solid gray;box-sizing: border-box;top: 0;bottom: 0;left: 50%;z-index: -1;}#sk-container-id-35 div.sk-parallel-item {display: flex;flex-direction: column;z-index: 1;position: relative;background-color: white;}#sk-container-id-35 div.sk-parallel-item:first-child::after {align-self: flex-end;width: 50%;}#sk-container-id-35 div.sk-parallel-item:last-child::after {align-self: flex-start;width: 50%;}#sk-container-id-35 div.sk-parallel-item:only-child::after {width: 0;}#sk-container-id-35 div.sk-dashed-wrapped {border: 1px dashed gray;margin: 0 0.4em 0.5em 0.4em;box-sizing: border-box;padding-bottom: 0.4em;background-color: white;}#sk-container-id-35 div.sk-label label {font-family: monospace;font-weight: bold;display: inline-block;line-height: 1.2em;}#sk-container-id-35 div.sk-label-container {text-align: center;}#sk-container-id-35 div.sk-container {/* jupyter's `normalize.less` sets `[hidden] { display: none; }` but bootstrap.min.css set `[hidden] { display: none !important; }` so we also need the `!important` here to be able to override the default hidden behavior on the sphinx rendered scikit-learn.org. See: https://github.com/scikit-learn/scikit-learn/issues/21755 */display: inline-block !important;position: relative;}#sk-container-id-35 div.sk-text-repr-fallback {display: none;}</style><div id=\"sk-container-id-35\" class=\"sk-top-container\"><div class=\"sk-text-repr-fallback\"><pre>PassiveAggressiveClassifier()</pre><b>In a Jupyter environment, please rerun this cell to show the HTML representation or trust the notebook. <br />On GitHub, the HTML representation is unable to render, please try loading this page with nbviewer.org.</b></div><div class=\"sk-container\" hidden><div class=\"sk-item\"><div class=\"sk-estimator sk-toggleable\"><input class=\"sk-toggleable__control sk-hidden--visually\" id=\"sk-estimator-id-35\" type=\"checkbox\" checked><label for=\"sk-estimator-id-35\" class=\"sk-toggleable__label sk-toggleable__label-arrow\">PassiveAggressiveClassifier</label><div class=\"sk-toggleable__content\"><pre>PassiveAggressiveClassifier()</pre></div></div></div></div></div>"
      ],
      "text/plain": [
       "PassiveAggressiveClassifier()"
      ]
     },
     "execution_count": 197,
     "metadata": {},
     "output_type": "execute_result"
    }
   ],
   "source": [
    "clf_per.partial_fit(train_x_vectors, train_y)\n",
    "clf_par.partial_fit(train_x_vectors, train_y)"
   ]
  },
  {
   "cell_type": "code",
   "execution_count": 164,
   "metadata": {},
   "outputs": [],
   "source": [
    "with open('./models/sgd_hate_classifier.pkl', 'rb') as f:\n",
    "    huji = pickle.load(f)\n",
    "\n",
    "models.append(huji)"
   ]
  },
  {
   "cell_type": "code",
   "execution_count": 200,
   "metadata": {},
   "outputs": [
    {
     "name": "stdout",
     "output_type": "stream",
     "text": [
      "PassiveAggressiveClassifier()\n",
      "0.7112403100775194\n",
      "[0.56047198 0.78499278]\n",
      "\n",
      "\n",
      "Perceptron()\n",
      "0.7073643410852714\n",
      "[0.57464789 0.77695716]\n",
      "\n",
      "\n"
     ]
    }
   ],
   "source": [
    "for x in models:\n",
    "    print(x)\n",
    "    print(x.score(test_x_vectors, test_y))\n",
    "    print(f1_score(test_y, x.predict(test_x_vectors), average=None, labels=[True, False]))\n",
    "    print('\\n')"
   ]
  },
  {
   "attachments": {},
   "cell_type": "markdown",
   "metadata": {},
   "source": [
    "#### Testing"
   ]
  },
  {
   "cell_type": "code",
   "execution_count": 201,
   "metadata": {},
   "outputs": [
    {
     "name": "stdout",
     "output_type": "stream",
     "text": [
      "0.7073643410852714\n"
     ]
    },
    {
     "data": {
      "text/plain": [
       "array([0.57464789, 0.77695716])"
      ]
     },
     "execution_count": 201,
     "metadata": {},
     "output_type": "execute_result"
    }
   ],
   "source": [
    "model = clf_per\n",
    "\n",
    "print(model.score(test_x_vectors, test_y))\n",
    "\n",
    "f1_score(test_y, model.predict(test_x_vectors), average=None, labels=[True, False])"
   ]
  },
  {
   "attachments": {},
   "cell_type": "markdown",
   "metadata": {},
   "source": [
    "## Pickling"
   ]
  },
  {
   "cell_type": "code",
   "execution_count": 176,
   "metadata": {},
   "outputs": [],
   "source": [
    "with open('./models/per_hate_classifier.pkl', 'wb') as f:\n",
    "    pickle.dump(model, f)"
   ]
  },
  {
   "cell_type": "code",
   "execution_count": 175,
   "metadata": {},
   "outputs": [],
   "source": [
    "with open('./models/vectorizer.pk', 'wb') as fin:\n",
    "    pickle.dump(vectorizer, fin)"
   ]
  }
 ],
 "metadata": {
  "kernelspec": {
   "display_name": "myenv",
   "language": "python",
   "name": "python3"
  },
  "language_info": {
   "codemirror_mode": {
    "name": "ipython",
    "version": 3
   },
   "file_extension": ".py",
   "mimetype": "text/x-python",
   "name": "python",
   "nbconvert_exporter": "python",
   "pygments_lexer": "ipython3",
   "version": "3.11.2"
  },
  "orig_nbformat": 4
 },
 "nbformat": 4,
 "nbformat_minor": 2
}
